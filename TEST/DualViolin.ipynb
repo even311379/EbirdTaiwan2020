{
 "cells": [
  {
   "cell_type": "code",
   "execution_count": 13,
   "metadata": {
    "scrolled": false
   },
   "outputs": [
    {
     "data": {
      "application/vnd.plotly.v1+json": {
       "config": {
        "plotlyServerURL": "https://plot.ly"
       },
       "data": [
        {
         "colorscale": [
          [
           0,
           "rgb(247,252,245)"
          ],
          [
           0.125,
           "rgb(229,245,224)"
          ],
          [
           0.25,
           "rgb(199,233,192)"
          ],
          [
           0.375,
           "rgb(161,217,155)"
          ],
          [
           0.5,
           "rgb(116,196,118)"
          ],
          [
           0.625,
           "rgb(65,171,93)"
          ],
          [
           0.75,
           "rgb(35,139,69)"
          ],
          [
           0.875,
           "rgb(0,109,44)"
          ],
          [
           1,
           "rgb(0,68,27)"
          ]
         ],
         "hoverinfo": "none",
         "type": "histogram2dcontour",
         "x": [
          41,
          34,
          47,
          52,
          43,
          46,
          46,
          51,
          32,
          45,
          33,
          37,
          51,
          32,
          41,
          45,
          44,
          35,
          49,
          35,
          45,
          49,
          45,
          44,
          50,
          53,
          39,
          51,
          44,
          54,
          52,
          29,
          43,
          56,
          39,
          40,
          38,
          40,
          50,
          26,
          38,
          36,
          52,
          46,
          49,
          40,
          49,
          50,
          52,
          38,
          47,
          47,
          42,
          38,
          37,
          49,
          60,
          43,
          50,
          45,
          46,
          50,
          63,
          45,
          56,
          48,
          37,
          56,
          44,
          50,
          49,
          52,
          44,
          47,
          41,
          40,
          39,
          45,
          37,
          50
         ],
         "xaxis": "x",
         "y": [
          545,
          499,
          764,
          577,
          454,
          754,
          617,
          468,
          405,
          793,
          507,
          433,
          875,
          429,
          521,
          779,
          551,
          511,
          748,
          536,
          790,
          557,
          643,
          766,
          627,
          756,
          437,
          782,
          467,
          779,
          685,
          462,
          565,
          757,
          496,
          486,
          553,
          587,
          767,
          323,
          355,
          488,
          588,
          615,
          795,
          659,
          562,
          714,
          692,
          701,
          823,
          853,
          681,
          552,
          561,
          714,
          966,
          756,
          674,
          783,
          650,
          609,
          1089,
          836,
          690,
          726,
          493,
          865,
          686,
          872,
          665,
          953,
          674,
          577,
          725,
          665,
          490,
          559,
          574,
          811
         ],
         "yaxis": "y"
        },
        {
         "hoverlabel": {
          "bgcolor": "#000000",
          "bordercolor": "#ffffff",
          "font": {
           "color": "#ffffff",
           "size": 18
          }
         },
         "hovertemplate": "%{text}預測，%{x}種鳥，共%{y}隻<extra></extra>",
         "marker": {
          "color": "#fe7171",
          "size": 3
         },
         "mode": "markers",
         "text": [
          "Simpson預測",
          "Baldrige預測",
          "Ney預測",
          "Moon預測",
          "Shetler預測",
          "Weiss預測",
          "Horka預測",
          "Cochran預測",
          "Baker預測",
          "Mulder預測",
          "Cooper預測",
          "Martinez預測",
          "Haynes預測",
          "Oconnell預測",
          "Whittenberg預測",
          "Walsh預測",
          "Ennis預測",
          "Alexander預測",
          "Goulette預測",
          "Melton預測",
          "Brown預測",
          "Mosher預測",
          "Lang預測",
          "Butler預測",
          "Courter預測",
          "Kumm預測",
          "Lindeman預測",
          "Quick預測",
          "Merritt預測",
          "Kimble預測",
          "Wendt預測",
          "Mcgrath預測",
          "Gibson預測",
          "Smith預測",
          "Hatchett預測",
          "Guay預測",
          "Trotter預測",
          "Grant預測",
          "Brightharp預測",
          "Silva預測",
          "Flores預測",
          "Hansen預測",
          "Francois預測",
          "Folk預測",
          "Bullock預測",
          "Cohen預測",
          "Valine預測",
          "Mcgee預測",
          "Reilly預測",
          "Freshour預測",
          "Stetler預測",
          "Peachey預測",
          "Harris預測",
          "Hackleman預測",
          "Bryant預測",
          "Mcgarey預測",
          "Gillette預測",
          "Baldwin預測",
          "Reese預測",
          "Hoefling預測",
          "Lozano預測",
          "Zappala預測",
          "Wood預測",
          "Conway預測",
          "Terry預測",
          "Eaton預測",
          "Mccarthy預測",
          "Kennedy預測",
          "Simmons預測",
          "Gary預測",
          "French預測",
          "Queen預測",
          "Cepero預測",
          "Flores預測",
          "Ferreira預測",
          "Kassing預測",
          "Brooks預測",
          "Tesch預測",
          "Lockwood預測",
          "Perego預測"
         ],
         "type": "scatter",
         "x": [
          41,
          34,
          47,
          52,
          43,
          46,
          46,
          51,
          32,
          45,
          33,
          37,
          51,
          32,
          41,
          45,
          44,
          35,
          49,
          35,
          45,
          49,
          45,
          44,
          50,
          53,
          39,
          51,
          44,
          54,
          52,
          29,
          43,
          56,
          39,
          40,
          38,
          40,
          50,
          26,
          38,
          36,
          52,
          46,
          49,
          40,
          49,
          50,
          52,
          38,
          47,
          47,
          42,
          38,
          37,
          49,
          60,
          43,
          50,
          45,
          46,
          50,
          63,
          45,
          56,
          48,
          37,
          56,
          44,
          50,
          49,
          52,
          44,
          47,
          41,
          40,
          39,
          45,
          37,
          50
         ],
         "xaxis": "x",
         "y": [
          545,
          499,
          764,
          577,
          454,
          754,
          617,
          468,
          405,
          793,
          507,
          433,
          875,
          429,
          521,
          779,
          551,
          511,
          748,
          536,
          790,
          557,
          643,
          766,
          627,
          756,
          437,
          782,
          467,
          779,
          685,
          462,
          565,
          757,
          496,
          486,
          553,
          587,
          767,
          323,
          355,
          488,
          588,
          615,
          795,
          659,
          562,
          714,
          692,
          701,
          823,
          853,
          681,
          552,
          561,
          714,
          966,
          756,
          674,
          783,
          650,
          609,
          1089,
          836,
          690,
          726,
          493,
          865,
          686,
          872,
          665,
          953,
          674,
          577,
          725,
          665,
          490,
          559,
          574,
          811
         ],
         "yaxis": "y"
        },
        {
         "marker": {
          "color": "#006a71"
         },
         "type": "histogram",
         "xaxis": "x2",
         "y": [
          545,
          499,
          764,
          577,
          454,
          754,
          617,
          468,
          405,
          793,
          507,
          433,
          875,
          429,
          521,
          779,
          551,
          511,
          748,
          536,
          790,
          557,
          643,
          766,
          627,
          756,
          437,
          782,
          467,
          779,
          685,
          462,
          565,
          757,
          496,
          486,
          553,
          587,
          767,
          323,
          355,
          488,
          588,
          615,
          795,
          659,
          562,
          714,
          692,
          701,
          823,
          853,
          681,
          552,
          561,
          714,
          966,
          756,
          674,
          783,
          650,
          609,
          1089,
          836,
          690,
          726,
          493,
          865,
          686,
          872,
          665,
          953,
          674,
          577,
          725,
          665,
          490,
          559,
          574,
          811
         ]
        },
        {
         "marker": {
          "color": "#e5df88"
         },
         "type": "histogram",
         "x": [
          41,
          34,
          47,
          52,
          43,
          46,
          46,
          51,
          32,
          45,
          33,
          37,
          51,
          32,
          41,
          45,
          44,
          35,
          49,
          35,
          45,
          49,
          45,
          44,
          50,
          53,
          39,
          51,
          44,
          54,
          52,
          29,
          43,
          56,
          39,
          40,
          38,
          40,
          50,
          26,
          38,
          36,
          52,
          46,
          49,
          40,
          49,
          50,
          52,
          38,
          47,
          47,
          42,
          38,
          37,
          49,
          60,
          43,
          50,
          45,
          46,
          50,
          63,
          45,
          56,
          48,
          37,
          56,
          44,
          50,
          49,
          52,
          44,
          47,
          41,
          40,
          39,
          45,
          37,
          50
         ],
         "yaxis": "y2"
        }
       ],
       "layout": {
        "autosize": false,
        "bargap": 0,
        "height": 900,
        "hovermode": "closest",
        "showlegend": false,
        "template": {
         "data": {
          "bar": [
           {
            "error_x": {
             "color": "#2a3f5f"
            },
            "error_y": {
             "color": "#2a3f5f"
            },
            "marker": {
             "line": {
              "color": "#E5ECF6",
              "width": 0.5
             }
            },
            "type": "bar"
           }
          ],
          "barpolar": [
           {
            "marker": {
             "line": {
              "color": "#E5ECF6",
              "width": 0.5
             }
            },
            "type": "barpolar"
           }
          ],
          "carpet": [
           {
            "aaxis": {
             "endlinecolor": "#2a3f5f",
             "gridcolor": "white",
             "linecolor": "white",
             "minorgridcolor": "white",
             "startlinecolor": "#2a3f5f"
            },
            "baxis": {
             "endlinecolor": "#2a3f5f",
             "gridcolor": "white",
             "linecolor": "white",
             "minorgridcolor": "white",
             "startlinecolor": "#2a3f5f"
            },
            "type": "carpet"
           }
          ],
          "choropleth": [
           {
            "colorbar": {
             "outlinewidth": 0,
             "ticks": ""
            },
            "type": "choropleth"
           }
          ],
          "contour": [
           {
            "colorbar": {
             "outlinewidth": 0,
             "ticks": ""
            },
            "colorscale": [
             [
              0,
              "#0d0887"
             ],
             [
              0.1111111111111111,
              "#46039f"
             ],
             [
              0.2222222222222222,
              "#7201a8"
             ],
             [
              0.3333333333333333,
              "#9c179e"
             ],
             [
              0.4444444444444444,
              "#bd3786"
             ],
             [
              0.5555555555555556,
              "#d8576b"
             ],
             [
              0.6666666666666666,
              "#ed7953"
             ],
             [
              0.7777777777777778,
              "#fb9f3a"
             ],
             [
              0.8888888888888888,
              "#fdca26"
             ],
             [
              1,
              "#f0f921"
             ]
            ],
            "type": "contour"
           }
          ],
          "contourcarpet": [
           {
            "colorbar": {
             "outlinewidth": 0,
             "ticks": ""
            },
            "type": "contourcarpet"
           }
          ],
          "heatmap": [
           {
            "colorbar": {
             "outlinewidth": 0,
             "ticks": ""
            },
            "colorscale": [
             [
              0,
              "#0d0887"
             ],
             [
              0.1111111111111111,
              "#46039f"
             ],
             [
              0.2222222222222222,
              "#7201a8"
             ],
             [
              0.3333333333333333,
              "#9c179e"
             ],
             [
              0.4444444444444444,
              "#bd3786"
             ],
             [
              0.5555555555555556,
              "#d8576b"
             ],
             [
              0.6666666666666666,
              "#ed7953"
             ],
             [
              0.7777777777777778,
              "#fb9f3a"
             ],
             [
              0.8888888888888888,
              "#fdca26"
             ],
             [
              1,
              "#f0f921"
             ]
            ],
            "type": "heatmap"
           }
          ],
          "heatmapgl": [
           {
            "colorbar": {
             "outlinewidth": 0,
             "ticks": ""
            },
            "colorscale": [
             [
              0,
              "#0d0887"
             ],
             [
              0.1111111111111111,
              "#46039f"
             ],
             [
              0.2222222222222222,
              "#7201a8"
             ],
             [
              0.3333333333333333,
              "#9c179e"
             ],
             [
              0.4444444444444444,
              "#bd3786"
             ],
             [
              0.5555555555555556,
              "#d8576b"
             ],
             [
              0.6666666666666666,
              "#ed7953"
             ],
             [
              0.7777777777777778,
              "#fb9f3a"
             ],
             [
              0.8888888888888888,
              "#fdca26"
             ],
             [
              1,
              "#f0f921"
             ]
            ],
            "type": "heatmapgl"
           }
          ],
          "histogram": [
           {
            "marker": {
             "colorbar": {
              "outlinewidth": 0,
              "ticks": ""
             }
            },
            "type": "histogram"
           }
          ],
          "histogram2d": [
           {
            "colorbar": {
             "outlinewidth": 0,
             "ticks": ""
            },
            "colorscale": [
             [
              0,
              "#0d0887"
             ],
             [
              0.1111111111111111,
              "#46039f"
             ],
             [
              0.2222222222222222,
              "#7201a8"
             ],
             [
              0.3333333333333333,
              "#9c179e"
             ],
             [
              0.4444444444444444,
              "#bd3786"
             ],
             [
              0.5555555555555556,
              "#d8576b"
             ],
             [
              0.6666666666666666,
              "#ed7953"
             ],
             [
              0.7777777777777778,
              "#fb9f3a"
             ],
             [
              0.8888888888888888,
              "#fdca26"
             ],
             [
              1,
              "#f0f921"
             ]
            ],
            "type": "histogram2d"
           }
          ],
          "histogram2dcontour": [
           {
            "colorbar": {
             "outlinewidth": 0,
             "ticks": ""
            },
            "colorscale": [
             [
              0,
              "#0d0887"
             ],
             [
              0.1111111111111111,
              "#46039f"
             ],
             [
              0.2222222222222222,
              "#7201a8"
             ],
             [
              0.3333333333333333,
              "#9c179e"
             ],
             [
              0.4444444444444444,
              "#bd3786"
             ],
             [
              0.5555555555555556,
              "#d8576b"
             ],
             [
              0.6666666666666666,
              "#ed7953"
             ],
             [
              0.7777777777777778,
              "#fb9f3a"
             ],
             [
              0.8888888888888888,
              "#fdca26"
             ],
             [
              1,
              "#f0f921"
             ]
            ],
            "type": "histogram2dcontour"
           }
          ],
          "mesh3d": [
           {
            "colorbar": {
             "outlinewidth": 0,
             "ticks": ""
            },
            "type": "mesh3d"
           }
          ],
          "parcoords": [
           {
            "line": {
             "colorbar": {
              "outlinewidth": 0,
              "ticks": ""
             }
            },
            "type": "parcoords"
           }
          ],
          "pie": [
           {
            "automargin": true,
            "type": "pie"
           }
          ],
          "scatter": [
           {
            "marker": {
             "colorbar": {
              "outlinewidth": 0,
              "ticks": ""
             }
            },
            "type": "scatter"
           }
          ],
          "scatter3d": [
           {
            "line": {
             "colorbar": {
              "outlinewidth": 0,
              "ticks": ""
             }
            },
            "marker": {
             "colorbar": {
              "outlinewidth": 0,
              "ticks": ""
             }
            },
            "type": "scatter3d"
           }
          ],
          "scattercarpet": [
           {
            "marker": {
             "colorbar": {
              "outlinewidth": 0,
              "ticks": ""
             }
            },
            "type": "scattercarpet"
           }
          ],
          "scattergeo": [
           {
            "marker": {
             "colorbar": {
              "outlinewidth": 0,
              "ticks": ""
             }
            },
            "type": "scattergeo"
           }
          ],
          "scattergl": [
           {
            "marker": {
             "colorbar": {
              "outlinewidth": 0,
              "ticks": ""
             }
            },
            "type": "scattergl"
           }
          ],
          "scattermapbox": [
           {
            "marker": {
             "colorbar": {
              "outlinewidth": 0,
              "ticks": ""
             }
            },
            "type": "scattermapbox"
           }
          ],
          "scatterpolar": [
           {
            "marker": {
             "colorbar": {
              "outlinewidth": 0,
              "ticks": ""
             }
            },
            "type": "scatterpolar"
           }
          ],
          "scatterpolargl": [
           {
            "marker": {
             "colorbar": {
              "outlinewidth": 0,
              "ticks": ""
             }
            },
            "type": "scatterpolargl"
           }
          ],
          "scatterternary": [
           {
            "marker": {
             "colorbar": {
              "outlinewidth": 0,
              "ticks": ""
             }
            },
            "type": "scatterternary"
           }
          ],
          "surface": [
           {
            "colorbar": {
             "outlinewidth": 0,
             "ticks": ""
            },
            "colorscale": [
             [
              0,
              "#0d0887"
             ],
             [
              0.1111111111111111,
              "#46039f"
             ],
             [
              0.2222222222222222,
              "#7201a8"
             ],
             [
              0.3333333333333333,
              "#9c179e"
             ],
             [
              0.4444444444444444,
              "#bd3786"
             ],
             [
              0.5555555555555556,
              "#d8576b"
             ],
             [
              0.6666666666666666,
              "#ed7953"
             ],
             [
              0.7777777777777778,
              "#fb9f3a"
             ],
             [
              0.8888888888888888,
              "#fdca26"
             ],
             [
              1,
              "#f0f921"
             ]
            ],
            "type": "surface"
           }
          ],
          "table": [
           {
            "cells": {
             "fill": {
              "color": "#EBF0F8"
             },
             "line": {
              "color": "white"
             }
            },
            "header": {
             "fill": {
              "color": "#C8D4E3"
             },
             "line": {
              "color": "white"
             }
            },
            "type": "table"
           }
          ]
         },
         "layout": {
          "annotationdefaults": {
           "arrowcolor": "#2a3f5f",
           "arrowhead": 0,
           "arrowwidth": 1
          },
          "coloraxis": {
           "colorbar": {
            "outlinewidth": 0,
            "ticks": ""
           }
          },
          "colorscale": {
           "diverging": [
            [
             0,
             "#8e0152"
            ],
            [
             0.1,
             "#c51b7d"
            ],
            [
             0.2,
             "#de77ae"
            ],
            [
             0.3,
             "#f1b6da"
            ],
            [
             0.4,
             "#fde0ef"
            ],
            [
             0.5,
             "#f7f7f7"
            ],
            [
             0.6,
             "#e6f5d0"
            ],
            [
             0.7,
             "#b8e186"
            ],
            [
             0.8,
             "#7fbc41"
            ],
            [
             0.9,
             "#4d9221"
            ],
            [
             1,
             "#276419"
            ]
           ],
           "sequential": [
            [
             0,
             "#0d0887"
            ],
            [
             0.1111111111111111,
             "#46039f"
            ],
            [
             0.2222222222222222,
             "#7201a8"
            ],
            [
             0.3333333333333333,
             "#9c179e"
            ],
            [
             0.4444444444444444,
             "#bd3786"
            ],
            [
             0.5555555555555556,
             "#d8576b"
            ],
            [
             0.6666666666666666,
             "#ed7953"
            ],
            [
             0.7777777777777778,
             "#fb9f3a"
            ],
            [
             0.8888888888888888,
             "#fdca26"
            ],
            [
             1,
             "#f0f921"
            ]
           ],
           "sequentialminus": [
            [
             0,
             "#0d0887"
            ],
            [
             0.1111111111111111,
             "#46039f"
            ],
            [
             0.2222222222222222,
             "#7201a8"
            ],
            [
             0.3333333333333333,
             "#9c179e"
            ],
            [
             0.4444444444444444,
             "#bd3786"
            ],
            [
             0.5555555555555556,
             "#d8576b"
            ],
            [
             0.6666666666666666,
             "#ed7953"
            ],
            [
             0.7777777777777778,
             "#fb9f3a"
            ],
            [
             0.8888888888888888,
             "#fdca26"
            ],
            [
             1,
             "#f0f921"
            ]
           ]
          },
          "colorway": [
           "#636efa",
           "#EF553B",
           "#00cc96",
           "#ab63fa",
           "#FFA15A",
           "#19d3f3",
           "#FF6692",
           "#B6E880",
           "#FF97FF",
           "#FECB52"
          ],
          "font": {
           "color": "#2a3f5f"
          },
          "geo": {
           "bgcolor": "white",
           "lakecolor": "white",
           "landcolor": "#E5ECF6",
           "showlakes": true,
           "showland": true,
           "subunitcolor": "white"
          },
          "hoverlabel": {
           "align": "left"
          },
          "hovermode": "closest",
          "mapbox": {
           "style": "light"
          },
          "paper_bgcolor": "white",
          "plot_bgcolor": "#E5ECF6",
          "polar": {
           "angularaxis": {
            "gridcolor": "white",
            "linecolor": "white",
            "ticks": ""
           },
           "bgcolor": "#E5ECF6",
           "radialaxis": {
            "gridcolor": "white",
            "linecolor": "white",
            "ticks": ""
           }
          },
          "scene": {
           "xaxis": {
            "backgroundcolor": "#E5ECF6",
            "gridcolor": "white",
            "gridwidth": 2,
            "linecolor": "white",
            "showbackground": true,
            "ticks": "",
            "zerolinecolor": "white"
           },
           "yaxis": {
            "backgroundcolor": "#E5ECF6",
            "gridcolor": "white",
            "gridwidth": 2,
            "linecolor": "white",
            "showbackground": true,
            "ticks": "",
            "zerolinecolor": "white"
           },
           "zaxis": {
            "backgroundcolor": "#E5ECF6",
            "gridcolor": "white",
            "gridwidth": 2,
            "linecolor": "white",
            "showbackground": true,
            "ticks": "",
            "zerolinecolor": "white"
           }
          },
          "shapedefaults": {
           "line": {
            "color": "#2a3f5f"
           }
          },
          "ternary": {
           "aaxis": {
            "gridcolor": "white",
            "linecolor": "white",
            "ticks": ""
           },
           "baxis": {
            "gridcolor": "white",
            "linecolor": "white",
            "ticks": ""
           },
           "bgcolor": "#E5ECF6",
           "caxis": {
            "gridcolor": "white",
            "linecolor": "white",
            "ticks": ""
           }
          },
          "title": {
           "x": 0.05
          },
          "xaxis": {
           "automargin": true,
           "gridcolor": "white",
           "linecolor": "white",
           "ticks": "",
           "title": {
            "standoff": 15
           },
           "zerolinecolor": "white",
           "zerolinewidth": 2
          },
          "yaxis": {
           "automargin": true,
           "gridcolor": "white",
           "linecolor": "white",
           "ticks": "",
           "title": {
            "standoff": 15
           },
           "zerolinecolor": "white",
           "zerolinewidth": 2
          }
         }
        },
        "width": 900,
        "xaxis": {
         "domain": [
          0,
          0.85
         ],
         "showgrid": false,
         "zeroline": false
        },
        "xaxis2": {
         "domain": [
          0.85,
          1
         ],
         "showgrid": false,
         "title": {
          "text": "預測總鳥種數"
         },
         "zeroline": false
        },
        "yaxis": {
         "domain": [
          0,
          0.85
         ],
         "showgrid": false,
         "zeroline": false
        },
        "yaxis2": {
         "domain": [
          0.85,
          1
         ],
         "showgrid": false,
         "title": {
          "text": "預測總隻數"
         },
         "zeroline": false
        }
       }
      },
      "text/html": [
       "<div>\n",
       "        \n",
       "        \n",
       "            <div id=\"dfe01036-d74c-4c98-99b0-6d4630d22841\" class=\"plotly-graph-div\" style=\"height:900px; width:900px;\"></div>\n",
       "            <script type=\"text/javascript\">\n",
       "                require([\"plotly\"], function(Plotly) {\n",
       "                    window.PLOTLYENV=window.PLOTLYENV || {};\n",
       "                    \n",
       "                if (document.getElementById(\"dfe01036-d74c-4c98-99b0-6d4630d22841\")) {\n",
       "                    Plotly.newPlot(\n",
       "                        'dfe01036-d74c-4c98-99b0-6d4630d22841',\n",
       "                        [{\"colorscale\": [[0.0, \"rgb(247,252,245)\"], [0.125, \"rgb(229,245,224)\"], [0.25, \"rgb(199,233,192)\"], [0.375, \"rgb(161,217,155)\"], [0.5, \"rgb(116,196,118)\"], [0.625, \"rgb(65,171,93)\"], [0.75, \"rgb(35,139,69)\"], [0.875, \"rgb(0,109,44)\"], [1.0, \"rgb(0,68,27)\"]], \"hoverinfo\": \"none\", \"type\": \"histogram2dcontour\", \"x\": [41, 34, 47, 52, 43, 46, 46, 51, 32, 45, 33, 37, 51, 32, 41, 45, 44, 35, 49, 35, 45, 49, 45, 44, 50, 53, 39, 51, 44, 54, 52, 29, 43, 56, 39, 40, 38, 40, 50, 26, 38, 36, 52, 46, 49, 40, 49, 50, 52, 38, 47, 47, 42, 38, 37, 49, 60, 43, 50, 45, 46, 50, 63, 45, 56, 48, 37, 56, 44, 50, 49, 52, 44, 47, 41, 40, 39, 45, 37, 50], \"xaxis\": \"x\", \"y\": [545, 499, 764, 577, 454, 754, 617, 468, 405, 793, 507, 433, 875, 429, 521, 779, 551, 511, 748, 536, 790, 557, 643, 766, 627, 756, 437, 782, 467, 779, 685, 462, 565, 757, 496, 486, 553, 587, 767, 323, 355, 488, 588, 615, 795, 659, 562, 714, 692, 701, 823, 853, 681, 552, 561, 714, 966, 756, 674, 783, 650, 609, 1089, 836, 690, 726, 493, 865, 686, 872, 665, 953, 674, 577, 725, 665, 490, 559, 574, 811], \"yaxis\": \"y\"}, {\"hoverlabel\": {\"bgcolor\": \"#000000\", \"bordercolor\": \"#ffffff\", \"font\": {\"color\": \"#ffffff\", \"size\": 18}}, \"hovertemplate\": \"%{text}\\u9810\\u6e2c\\uff0c%{x}\\u7a2e\\u9ce5\\uff0c\\u5171%{y}\\u96bb<extra></extra>\", \"marker\": {\"color\": \"#fe7171\", \"size\": 3}, \"mode\": \"markers\", \"text\": [\"Simpson\\u9810\\u6e2c\", \"Baldrige\\u9810\\u6e2c\", \"Ney\\u9810\\u6e2c\", \"Moon\\u9810\\u6e2c\", \"Shetler\\u9810\\u6e2c\", \"Weiss\\u9810\\u6e2c\", \"Horka\\u9810\\u6e2c\", \"Cochran\\u9810\\u6e2c\", \"Baker\\u9810\\u6e2c\", \"Mulder\\u9810\\u6e2c\", \"Cooper\\u9810\\u6e2c\", \"Martinez\\u9810\\u6e2c\", \"Haynes\\u9810\\u6e2c\", \"Oconnell\\u9810\\u6e2c\", \"Whittenberg\\u9810\\u6e2c\", \"Walsh\\u9810\\u6e2c\", \"Ennis\\u9810\\u6e2c\", \"Alexander\\u9810\\u6e2c\", \"Goulette\\u9810\\u6e2c\", \"Melton\\u9810\\u6e2c\", \"Brown\\u9810\\u6e2c\", \"Mosher\\u9810\\u6e2c\", \"Lang\\u9810\\u6e2c\", \"Butler\\u9810\\u6e2c\", \"Courter\\u9810\\u6e2c\", \"Kumm\\u9810\\u6e2c\", \"Lindeman\\u9810\\u6e2c\", \"Quick\\u9810\\u6e2c\", \"Merritt\\u9810\\u6e2c\", \"Kimble\\u9810\\u6e2c\", \"Wendt\\u9810\\u6e2c\", \"Mcgrath\\u9810\\u6e2c\", \"Gibson\\u9810\\u6e2c\", \"Smith\\u9810\\u6e2c\", \"Hatchett\\u9810\\u6e2c\", \"Guay\\u9810\\u6e2c\", \"Trotter\\u9810\\u6e2c\", \"Grant\\u9810\\u6e2c\", \"Brightharp\\u9810\\u6e2c\", \"Silva\\u9810\\u6e2c\", \"Flores\\u9810\\u6e2c\", \"Hansen\\u9810\\u6e2c\", \"Francois\\u9810\\u6e2c\", \"Folk\\u9810\\u6e2c\", \"Bullock\\u9810\\u6e2c\", \"Cohen\\u9810\\u6e2c\", \"Valine\\u9810\\u6e2c\", \"Mcgee\\u9810\\u6e2c\", \"Reilly\\u9810\\u6e2c\", \"Freshour\\u9810\\u6e2c\", \"Stetler\\u9810\\u6e2c\", \"Peachey\\u9810\\u6e2c\", \"Harris\\u9810\\u6e2c\", \"Hackleman\\u9810\\u6e2c\", \"Bryant\\u9810\\u6e2c\", \"Mcgarey\\u9810\\u6e2c\", \"Gillette\\u9810\\u6e2c\", \"Baldwin\\u9810\\u6e2c\", \"Reese\\u9810\\u6e2c\", \"Hoefling\\u9810\\u6e2c\", \"Lozano\\u9810\\u6e2c\", \"Zappala\\u9810\\u6e2c\", \"Wood\\u9810\\u6e2c\", \"Conway\\u9810\\u6e2c\", \"Terry\\u9810\\u6e2c\", \"Eaton\\u9810\\u6e2c\", \"Mccarthy\\u9810\\u6e2c\", \"Kennedy\\u9810\\u6e2c\", \"Simmons\\u9810\\u6e2c\", \"Gary\\u9810\\u6e2c\", \"French\\u9810\\u6e2c\", \"Queen\\u9810\\u6e2c\", \"Cepero\\u9810\\u6e2c\", \"Flores\\u9810\\u6e2c\", \"Ferreira\\u9810\\u6e2c\", \"Kassing\\u9810\\u6e2c\", \"Brooks\\u9810\\u6e2c\", \"Tesch\\u9810\\u6e2c\", \"Lockwood\\u9810\\u6e2c\", \"Perego\\u9810\\u6e2c\"], \"type\": \"scatter\", \"x\": [41, 34, 47, 52, 43, 46, 46, 51, 32, 45, 33, 37, 51, 32, 41, 45, 44, 35, 49, 35, 45, 49, 45, 44, 50, 53, 39, 51, 44, 54, 52, 29, 43, 56, 39, 40, 38, 40, 50, 26, 38, 36, 52, 46, 49, 40, 49, 50, 52, 38, 47, 47, 42, 38, 37, 49, 60, 43, 50, 45, 46, 50, 63, 45, 56, 48, 37, 56, 44, 50, 49, 52, 44, 47, 41, 40, 39, 45, 37, 50], \"xaxis\": \"x\", \"y\": [545, 499, 764, 577, 454, 754, 617, 468, 405, 793, 507, 433, 875, 429, 521, 779, 551, 511, 748, 536, 790, 557, 643, 766, 627, 756, 437, 782, 467, 779, 685, 462, 565, 757, 496, 486, 553, 587, 767, 323, 355, 488, 588, 615, 795, 659, 562, 714, 692, 701, 823, 853, 681, 552, 561, 714, 966, 756, 674, 783, 650, 609, 1089, 836, 690, 726, 493, 865, 686, 872, 665, 953, 674, 577, 725, 665, 490, 559, 574, 811], \"yaxis\": \"y\"}, {\"marker\": {\"color\": \"#006a71\"}, \"type\": \"histogram\", \"xaxis\": \"x2\", \"y\": [545, 499, 764, 577, 454, 754, 617, 468, 405, 793, 507, 433, 875, 429, 521, 779, 551, 511, 748, 536, 790, 557, 643, 766, 627, 756, 437, 782, 467, 779, 685, 462, 565, 757, 496, 486, 553, 587, 767, 323, 355, 488, 588, 615, 795, 659, 562, 714, 692, 701, 823, 853, 681, 552, 561, 714, 966, 756, 674, 783, 650, 609, 1089, 836, 690, 726, 493, 865, 686, 872, 665, 953, 674, 577, 725, 665, 490, 559, 574, 811]}, {\"marker\": {\"color\": \"#e5df88\"}, \"type\": \"histogram\", \"x\": [41, 34, 47, 52, 43, 46, 46, 51, 32, 45, 33, 37, 51, 32, 41, 45, 44, 35, 49, 35, 45, 49, 45, 44, 50, 53, 39, 51, 44, 54, 52, 29, 43, 56, 39, 40, 38, 40, 50, 26, 38, 36, 52, 46, 49, 40, 49, 50, 52, 38, 47, 47, 42, 38, 37, 49, 60, 43, 50, 45, 46, 50, 63, 45, 56, 48, 37, 56, 44, 50, 49, 52, 44, 47, 41, 40, 39, 45, 37, 50], \"yaxis\": \"y2\"}],\n",
       "                        {\"autosize\": false, \"bargap\": 0, \"height\": 900, \"hovermode\": \"closest\", \"showlegend\": false, \"template\": {\"data\": {\"bar\": [{\"error_x\": {\"color\": \"#2a3f5f\"}, \"error_y\": {\"color\": \"#2a3f5f\"}, \"marker\": {\"line\": {\"color\": \"#E5ECF6\", \"width\": 0.5}}, \"type\": \"bar\"}], \"barpolar\": [{\"marker\": {\"line\": {\"color\": \"#E5ECF6\", \"width\": 0.5}}, \"type\": \"barpolar\"}], \"carpet\": [{\"aaxis\": {\"endlinecolor\": \"#2a3f5f\", \"gridcolor\": \"white\", \"linecolor\": \"white\", \"minorgridcolor\": \"white\", \"startlinecolor\": \"#2a3f5f\"}, \"baxis\": {\"endlinecolor\": \"#2a3f5f\", \"gridcolor\": \"white\", \"linecolor\": \"white\", \"minorgridcolor\": \"white\", \"startlinecolor\": \"#2a3f5f\"}, \"type\": \"carpet\"}], \"choropleth\": [{\"colorbar\": {\"outlinewidth\": 0, \"ticks\": \"\"}, \"type\": \"choropleth\"}], \"contour\": [{\"colorbar\": {\"outlinewidth\": 0, \"ticks\": \"\"}, \"colorscale\": [[0.0, \"#0d0887\"], [0.1111111111111111, \"#46039f\"], [0.2222222222222222, \"#7201a8\"], [0.3333333333333333, \"#9c179e\"], [0.4444444444444444, \"#bd3786\"], [0.5555555555555556, \"#d8576b\"], [0.6666666666666666, \"#ed7953\"], [0.7777777777777778, \"#fb9f3a\"], [0.8888888888888888, \"#fdca26\"], [1.0, \"#f0f921\"]], \"type\": \"contour\"}], \"contourcarpet\": [{\"colorbar\": {\"outlinewidth\": 0, \"ticks\": \"\"}, \"type\": \"contourcarpet\"}], \"heatmap\": [{\"colorbar\": {\"outlinewidth\": 0, \"ticks\": \"\"}, \"colorscale\": [[0.0, \"#0d0887\"], [0.1111111111111111, \"#46039f\"], [0.2222222222222222, \"#7201a8\"], [0.3333333333333333, \"#9c179e\"], [0.4444444444444444, \"#bd3786\"], [0.5555555555555556, \"#d8576b\"], [0.6666666666666666, \"#ed7953\"], [0.7777777777777778, \"#fb9f3a\"], [0.8888888888888888, \"#fdca26\"], [1.0, \"#f0f921\"]], \"type\": \"heatmap\"}], \"heatmapgl\": [{\"colorbar\": {\"outlinewidth\": 0, \"ticks\": \"\"}, \"colorscale\": [[0.0, \"#0d0887\"], [0.1111111111111111, \"#46039f\"], [0.2222222222222222, \"#7201a8\"], [0.3333333333333333, \"#9c179e\"], [0.4444444444444444, \"#bd3786\"], [0.5555555555555556, \"#d8576b\"], [0.6666666666666666, \"#ed7953\"], [0.7777777777777778, \"#fb9f3a\"], [0.8888888888888888, \"#fdca26\"], [1.0, \"#f0f921\"]], \"type\": \"heatmapgl\"}], \"histogram\": [{\"marker\": {\"colorbar\": {\"outlinewidth\": 0, \"ticks\": \"\"}}, \"type\": \"histogram\"}], \"histogram2d\": [{\"colorbar\": {\"outlinewidth\": 0, \"ticks\": \"\"}, \"colorscale\": [[0.0, \"#0d0887\"], [0.1111111111111111, \"#46039f\"], [0.2222222222222222, \"#7201a8\"], [0.3333333333333333, \"#9c179e\"], [0.4444444444444444, \"#bd3786\"], [0.5555555555555556, \"#d8576b\"], [0.6666666666666666, \"#ed7953\"], [0.7777777777777778, \"#fb9f3a\"], [0.8888888888888888, \"#fdca26\"], [1.0, \"#f0f921\"]], \"type\": \"histogram2d\"}], \"histogram2dcontour\": [{\"colorbar\": {\"outlinewidth\": 0, \"ticks\": \"\"}, \"colorscale\": [[0.0, \"#0d0887\"], [0.1111111111111111, \"#46039f\"], [0.2222222222222222, \"#7201a8\"], [0.3333333333333333, \"#9c179e\"], [0.4444444444444444, \"#bd3786\"], [0.5555555555555556, \"#d8576b\"], [0.6666666666666666, \"#ed7953\"], [0.7777777777777778, \"#fb9f3a\"], [0.8888888888888888, \"#fdca26\"], [1.0, \"#f0f921\"]], \"type\": \"histogram2dcontour\"}], \"mesh3d\": [{\"colorbar\": {\"outlinewidth\": 0, \"ticks\": \"\"}, \"type\": \"mesh3d\"}], \"parcoords\": [{\"line\": {\"colorbar\": {\"outlinewidth\": 0, \"ticks\": \"\"}}, \"type\": \"parcoords\"}], \"pie\": [{\"automargin\": true, \"type\": \"pie\"}], \"scatter\": [{\"marker\": {\"colorbar\": {\"outlinewidth\": 0, \"ticks\": \"\"}}, \"type\": \"scatter\"}], \"scatter3d\": [{\"line\": {\"colorbar\": {\"outlinewidth\": 0, \"ticks\": \"\"}}, \"marker\": {\"colorbar\": {\"outlinewidth\": 0, \"ticks\": \"\"}}, \"type\": \"scatter3d\"}], \"scattercarpet\": [{\"marker\": {\"colorbar\": {\"outlinewidth\": 0, \"ticks\": \"\"}}, \"type\": \"scattercarpet\"}], \"scattergeo\": [{\"marker\": {\"colorbar\": {\"outlinewidth\": 0, \"ticks\": \"\"}}, \"type\": \"scattergeo\"}], \"scattergl\": [{\"marker\": {\"colorbar\": {\"outlinewidth\": 0, \"ticks\": \"\"}}, \"type\": \"scattergl\"}], \"scattermapbox\": [{\"marker\": {\"colorbar\": {\"outlinewidth\": 0, \"ticks\": \"\"}}, \"type\": \"scattermapbox\"}], \"scatterpolar\": [{\"marker\": {\"colorbar\": {\"outlinewidth\": 0, \"ticks\": \"\"}}, \"type\": \"scatterpolar\"}], \"scatterpolargl\": [{\"marker\": {\"colorbar\": {\"outlinewidth\": 0, \"ticks\": \"\"}}, \"type\": \"scatterpolargl\"}], \"scatterternary\": [{\"marker\": {\"colorbar\": {\"outlinewidth\": 0, \"ticks\": \"\"}}, \"type\": \"scatterternary\"}], \"surface\": [{\"colorbar\": {\"outlinewidth\": 0, \"ticks\": \"\"}, \"colorscale\": [[0.0, \"#0d0887\"], [0.1111111111111111, \"#46039f\"], [0.2222222222222222, \"#7201a8\"], [0.3333333333333333, \"#9c179e\"], [0.4444444444444444, \"#bd3786\"], [0.5555555555555556, \"#d8576b\"], [0.6666666666666666, \"#ed7953\"], [0.7777777777777778, \"#fb9f3a\"], [0.8888888888888888, \"#fdca26\"], [1.0, \"#f0f921\"]], \"type\": \"surface\"}], \"table\": [{\"cells\": {\"fill\": {\"color\": \"#EBF0F8\"}, \"line\": {\"color\": \"white\"}}, \"header\": {\"fill\": {\"color\": \"#C8D4E3\"}, \"line\": {\"color\": \"white\"}}, \"type\": \"table\"}]}, \"layout\": {\"annotationdefaults\": {\"arrowcolor\": \"#2a3f5f\", \"arrowhead\": 0, \"arrowwidth\": 1}, \"coloraxis\": {\"colorbar\": {\"outlinewidth\": 0, \"ticks\": \"\"}}, \"colorscale\": {\"diverging\": [[0, \"#8e0152\"], [0.1, \"#c51b7d\"], [0.2, \"#de77ae\"], [0.3, \"#f1b6da\"], [0.4, \"#fde0ef\"], [0.5, \"#f7f7f7\"], [0.6, \"#e6f5d0\"], [0.7, \"#b8e186\"], [0.8, \"#7fbc41\"], [0.9, \"#4d9221\"], [1, \"#276419\"]], \"sequential\": [[0.0, \"#0d0887\"], [0.1111111111111111, \"#46039f\"], [0.2222222222222222, \"#7201a8\"], [0.3333333333333333, \"#9c179e\"], [0.4444444444444444, \"#bd3786\"], [0.5555555555555556, \"#d8576b\"], [0.6666666666666666, \"#ed7953\"], [0.7777777777777778, \"#fb9f3a\"], [0.8888888888888888, \"#fdca26\"], [1.0, \"#f0f921\"]], \"sequentialminus\": [[0.0, \"#0d0887\"], [0.1111111111111111, \"#46039f\"], [0.2222222222222222, \"#7201a8\"], [0.3333333333333333, \"#9c179e\"], [0.4444444444444444, \"#bd3786\"], [0.5555555555555556, \"#d8576b\"], [0.6666666666666666, \"#ed7953\"], [0.7777777777777778, \"#fb9f3a\"], [0.8888888888888888, \"#fdca26\"], [1.0, \"#f0f921\"]]}, \"colorway\": [\"#636efa\", \"#EF553B\", \"#00cc96\", \"#ab63fa\", \"#FFA15A\", \"#19d3f3\", \"#FF6692\", \"#B6E880\", \"#FF97FF\", \"#FECB52\"], \"font\": {\"color\": \"#2a3f5f\"}, \"geo\": {\"bgcolor\": \"white\", \"lakecolor\": \"white\", \"landcolor\": \"#E5ECF6\", \"showlakes\": true, \"showland\": true, \"subunitcolor\": \"white\"}, \"hoverlabel\": {\"align\": \"left\"}, \"hovermode\": \"closest\", \"mapbox\": {\"style\": \"light\"}, \"paper_bgcolor\": \"white\", \"plot_bgcolor\": \"#E5ECF6\", \"polar\": {\"angularaxis\": {\"gridcolor\": \"white\", \"linecolor\": \"white\", \"ticks\": \"\"}, \"bgcolor\": \"#E5ECF6\", \"radialaxis\": {\"gridcolor\": \"white\", \"linecolor\": \"white\", \"ticks\": \"\"}}, \"scene\": {\"xaxis\": {\"backgroundcolor\": \"#E5ECF6\", \"gridcolor\": \"white\", \"gridwidth\": 2, \"linecolor\": \"white\", \"showbackground\": true, \"ticks\": \"\", \"zerolinecolor\": \"white\"}, \"yaxis\": {\"backgroundcolor\": \"#E5ECF6\", \"gridcolor\": \"white\", \"gridwidth\": 2, \"linecolor\": \"white\", \"showbackground\": true, \"ticks\": \"\", \"zerolinecolor\": \"white\"}, \"zaxis\": {\"backgroundcolor\": \"#E5ECF6\", \"gridcolor\": \"white\", \"gridwidth\": 2, \"linecolor\": \"white\", \"showbackground\": true, \"ticks\": \"\", \"zerolinecolor\": \"white\"}}, \"shapedefaults\": {\"line\": {\"color\": \"#2a3f5f\"}}, \"ternary\": {\"aaxis\": {\"gridcolor\": \"white\", \"linecolor\": \"white\", \"ticks\": \"\"}, \"baxis\": {\"gridcolor\": \"white\", \"linecolor\": \"white\", \"ticks\": \"\"}, \"bgcolor\": \"#E5ECF6\", \"caxis\": {\"gridcolor\": \"white\", \"linecolor\": \"white\", \"ticks\": \"\"}}, \"title\": {\"x\": 0.05}, \"xaxis\": {\"automargin\": true, \"gridcolor\": \"white\", \"linecolor\": \"white\", \"ticks\": \"\", \"title\": {\"standoff\": 15}, \"zerolinecolor\": \"white\", \"zerolinewidth\": 2}, \"yaxis\": {\"automargin\": true, \"gridcolor\": \"white\", \"linecolor\": \"white\", \"ticks\": \"\", \"title\": {\"standoff\": 15}, \"zerolinecolor\": \"white\", \"zerolinewidth\": 2}}}, \"width\": 900, \"xaxis\": {\"domain\": [0, 0.85], \"showgrid\": false, \"zeroline\": false}, \"xaxis2\": {\"domain\": [0.85, 1], \"showgrid\": false, \"title\": {\"text\": \"\\u9810\\u6e2c\\u7e3d\\u9ce5\\u7a2e\\u6578\"}, \"zeroline\": false}, \"yaxis\": {\"domain\": [0, 0.85], \"showgrid\": false, \"zeroline\": false}, \"yaxis2\": {\"domain\": [0.85, 1], \"showgrid\": false, \"title\": {\"text\": \"\\u9810\\u6e2c\\u7e3d\\u96bb\\u6578\"}, \"zeroline\": false}},\n",
       "                        {\"responsive\": true}\n",
       "                    ).then(function(){\n",
       "                            \n",
       "var gd = document.getElementById('dfe01036-d74c-4c98-99b0-6d4630d22841');\n",
       "var x = new MutationObserver(function (mutations, observer) {{\n",
       "        var display = window.getComputedStyle(gd).display;\n",
       "        if (!display || display === 'none') {{\n",
       "            console.log([gd, 'removed!']);\n",
       "            Plotly.purge(gd);\n",
       "            observer.disconnect();\n",
       "        }}\n",
       "}});\n",
       "\n",
       "// Listen for the removal of the full notebook cells\n",
       "var notebookContainer = gd.closest('#notebook-container');\n",
       "if (notebookContainer) {{\n",
       "    x.observe(notebookContainer, {childList: true});\n",
       "}}\n",
       "\n",
       "// Listen for the clearing of the current output cell\n",
       "var outputEl = gd.closest('.output');\n",
       "if (outputEl) {{\n",
       "    x.observe(outputEl, {childList: true});\n",
       "}}\n",
       "\n",
       "                        })\n",
       "                };\n",
       "                });\n",
       "            </script>\n",
       "        </div>"
      ]
     },
     "metadata": {},
     "output_type": "display_data"
    }
   ],
   "source": [
    "import plotly.graph_objects as go\n",
    "\n",
    "import numpy as np\n",
    "import names\n",
    "\n",
    "\n",
    "x = np.random.normal(45, 7, 80).astype(int)\n",
    "y = x*np.random.normal(15,2,80).astype(int) + np.random.uniform(5,30,80).astype(int)\n",
    "participant_names = [names.get_last_name() for i in range(80)]\n",
    "\n",
    "\n",
    "fig = go.Figure()\n",
    "fig.add_trace(go.Histogram2dContour(\n",
    "        x = x,\n",
    "        y = y,        \n",
    "        colorscale = 'Greens',\n",
    "#         reversescale = False,\n",
    "        xaxis = 'x',\n",
    "        yaxis = 'y',\n",
    "        hoverinfo = \"none\",\n",
    "    ))\n",
    "fig.add_trace(go.Scatter(\n",
    "        x = x,\n",
    "        y = y,\n",
    "        xaxis = 'x',\n",
    "        yaxis = 'y',\n",
    "        text = [n for n in participant_names],\n",
    "        hoverlabel=dict(bgcolor='#000000',bordercolor='#ffffff',font=dict(size=18, color='#ffffff')),\n",
    "        hovertemplate=\"%{text}預測，%{x}種鳥，共%{y}隻<extra></extra>\", \n",
    "        mode = 'markers',\n",
    "        marker = dict(\n",
    "            color = '#fe7171',\n",
    "            size = 3\n",
    "        )\n",
    "    ))\n",
    "fig.add_trace(go.Histogram(\n",
    "        y = y,\n",
    "        xaxis = 'x2',\n",
    "        marker = dict(\n",
    "            color = '#006a71'\n",
    "        )\n",
    "    ))\n",
    "fig.add_trace(go.Histogram(\n",
    "        x = x,\n",
    "        yaxis = 'y2',\n",
    "        marker = dict(\n",
    "            color = '#e5df88'\n",
    "        )\n",
    "        \n",
    "    ))\n",
    "\n",
    "fig.update_layout(\n",
    "    autosize = False,\n",
    "    xaxis = dict(\n",
    "        zeroline = False,\n",
    "        domain = [0,0.85],\n",
    "        showgrid = False\n",
    "    ),\n",
    "    yaxis = dict(\n",
    "        zeroline = False,\n",
    "        domain = [0,0.85],\n",
    "        showgrid = False\n",
    "    ),\n",
    "    xaxis2 = dict(\n",
    "        zeroline = False,\n",
    "        domain = [0.85,1],\n",
    "        showgrid = False,\n",
    "        title='預測總鳥種數'\n",
    "    ),\n",
    "    yaxis2 = dict(\n",
    "        zeroline = False,\n",
    "        domain = [0.85,1],\n",
    "        showgrid = False,\n",
    "        title='預測總隻數'\n",
    "    ),\n",
    "    height = 900,\n",
    "    width = 900,\n",
    "    bargap = 0,\n",
    "    hovermode = 'closest',\n",
    "    showlegend = False\n",
    ")\n",
    "\n",
    "fig.show()"
   ]
  },
  {
   "cell_type": "code",
   "execution_count": 8,
   "metadata": {},
   "outputs": [
    {
     "data": {
      "text/plain": [
       "array([100, 104,  40,  76,  96,  39,  56,  74,  94,  88,  86,  36,  92,\n",
       "        39,  76,  70,  41,  42,  86,  39,  74,  50,  45,  96,  82,  53,\n",
       "        45,  47,  47,  84,  44,  72,  41,  51,  84, 102,  98,  70,  92,\n",
       "       118,  57, 116, 106,  38,  98,  46,  49,  70,  96,  47,  48,  84,\n",
       "        86,  74,  60,  49, 108,  43,  41, 108,  98, 110,  44,  96,  34,\n",
       "        52,  76,  39,  94,  43,  74, 104,  51, 100,  68,  54,  76,  90,\n",
       "        80,  42])"
      ]
     },
     "execution_count": 8,
     "metadata": {},
     "output_type": "execute_result"
    }
   ],
   "source": [
    "np.random.normal(45, 7, 80).astype(int)*np.random.uniform(1,3,80).astype(int)"
   ]
  },
  {
   "cell_type": "code",
   "execution_count": 10,
   "metadata": {},
   "outputs": [
    {
     "data": {
      "text/plain": [
       "array([ 753,  567,  555,  662,  610,  809,  687,  686,  657,  700,  839,\n",
       "        892,  634,  833,  620,  606,  559,  744,  622,  451, 1026,  558,\n",
       "        812,  678,  396,  478,  635,  546,  472,  783,  762, 1036,  506,\n",
       "        558,  759,  851,  621,  615,  488,  437,  751,  684,  553,  698,\n",
       "       1029,  919,  644,  482,  634,  779,  656,  426,  662,  760,  804,\n",
       "        502,  687,  720,  597,  566,  711,  598,  529,  955,  607,  620,\n",
       "        818,  612,  785,  468,  803,  758,  687,  795,  468,  859,  475,\n",
       "        365,  500,  710])"
      ]
     },
     "execution_count": 10,
     "metadata": {},
     "output_type": "execute_result"
    }
   ],
   "source": [
    "np.random.normal(45, 7, 80).astype(int)*np.random.normal(15,2,80).astype(int) + np.random.uniform(5,30,80).astype(int)"
   ]
  },
  {
   "cell_type": "code",
   "execution_count": null,
   "metadata": {},
   "outputs": [],
   "source": []
  }
 ],
 "metadata": {
  "kernelspec": {
   "display_name": "Python 3",
   "language": "python",
   "name": "python3"
  },
  "language_info": {
   "codemirror_mode": {
    "name": "ipython",
    "version": 3
   },
   "file_extension": ".py",
   "mimetype": "text/x-python",
   "name": "python",
   "nbconvert_exporter": "python",
   "pygments_lexer": "ipython3",
   "version": "3.7.9"
  }
 },
 "nbformat": 4,
 "nbformat_minor": 4
}
